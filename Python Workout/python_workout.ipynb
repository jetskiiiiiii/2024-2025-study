{
  "cells": [
    {
      "cell_type": "code",
      "execution_count": 2,
      "metadata": {
        "id": "opF5ve5iW6Ql"
      },
      "outputs": [],
      "source": [
        "import random\n",
        "import operator\n",
        "from collections import Counter\n",
        "from io import StringIO\n",
        "import re"
      ]
    },
    {
      "cell_type": "markdown",
      "metadata": {
        "id": "drLlWA9fZbDU"
      },
      "source": [
        "## Exercise 1"
      ]
    },
    {
      "cell_type": "code",
      "execution_count": null,
      "metadata": {
        "id": "hmMSmbosW5rl"
      },
      "outputs": [],
      "source": [
        "def guessing_game():\n",
        "  rand_int = random.randint(1, 100)\n",
        "  guess = check_if_string_is_int(int(input('Enter a number between 1 and 100: ')))\n",
        "  while guess != rand_int:\n",
        "    if guess > rand_int:\n",
        "      print('Too high')\n",
        "      guess = check_if_string_is_int(int(input('Guess again: '))) if\n",
        "    else:\n",
        "      print('Too low')\n",
        "      guess = check_if_string_is_int(int(input('Guess again: ')))\n",
        "  print('Just right')\n",
        "\n",
        "def check_if_string_is_int(string):\n",
        "  if str.isdigit(string):\n",
        "    return True\n",
        "  return False"
      ]
    },
    {
      "cell_type": "code",
      "execution_count": null,
      "metadata": {
        "id": "rhtMw2ZeZT2A"
      },
      "outputs": [],
      "source": [
        "def guessing_game_v2():\n",
        "  int = random.randint(1, 100)\n",
        "  while guess := input('Guess a number from 1-100: '):\n",
        "    if"
      ]
    },
    {
      "cell_type": "code",
      "execution_count": null,
      "metadata": {
        "id": "CrBuwsx3ZWuc"
      },
      "outputs": [],
      "source": [
        "guessing_game()"
      ]
    },
    {
      "cell_type": "markdown",
      "metadata": {
        "id": "OvmvOcsiZlDV"
      },
      "source": [
        "## Exercise 2"
      ]
    },
    {
      "cell_type": "code",
      "execution_count": null,
      "metadata": {
        "id": "1rwmpctXW28X"
      },
      "outputs": [],
      "source": [
        "def summing_numbers(*args):\n",
        "  sum = 0\n",
        "  for num in args:\n",
        "    sum += num\n",
        "  return sum"
      ]
    },
    {
      "cell_type": "code",
      "execution_count": null,
      "metadata": {
        "id": "DRNgEVVaZtGR"
      },
      "outputs": [],
      "source": [
        "summing_numbers(1, 2, 3)"
      ]
    },
    {
      "cell_type": "markdown",
      "metadata": {
        "id": "c4LIXz3qZyVM"
      },
      "source": [
        "## Exercise 3"
      ]
    },
    {
      "cell_type": "code",
      "execution_count": null,
      "metadata": {
        "id": "LMbuPPDRW2Kg"
      },
      "outputs": [],
      "source": [
        "def run_timing():\n",
        "  time, sum, count = 0, 0, 0\n",
        "  while True:\n",
        "    time = input(\"Enter 10 km run time: \")\n",
        "    if not time:\n",
        "      break\n",
        "    time = float(time)\n",
        "    sum += time\n",
        "    count += 1\n",
        "  avg = round(sum / count, 2)\n",
        "  return f'Average of {avg}, over {count} runs.'"
      ]
    },
    {
      "cell_type": "code",
      "execution_count": null,
      "metadata": {
        "id": "uA9k4GcdZ35B"
      },
      "outputs": [],
      "source": [
        "run_timing()"
      ]
    },
    {
      "cell_type": "markdown",
      "metadata": {
        "id": "CUtp11M8Z5Ql"
      },
      "source": [
        "## Exercise 4"
      ]
    },
    {
      "cell_type": "code",
      "execution_count": null,
      "metadata": {
        "id": "5IScnrKZ04y4"
      },
      "outputs": [],
      "source": [
        "def hex_output(hex):\n",
        "  \"\"\"\n",
        "  Takes a hex number and returns the decimal equivalent. That is, if the user enters 50, you’ll assume\n",
        "  that it’s a hex number (equal to 0x50) and will print the value 80 to the screen. And\n",
        "  no, you shouldn’t convert the number all at once using the int function, although it’s\n",
        "  permissible to use int one digit at a time.\n",
        "  \"\"\"\n",
        "  hex = hex.upper()\n",
        "  hex_dict = {'A': 10, 'B': 11, 'C': 12, 'D': 13, 'E': 14, 'F': 15}\n",
        "  dec = 0\n",
        "  for idx, num in enumerate(reversed(hex)):\n",
        "    if num in hex_dict:\n",
        "      dec += hex_dict[num] * (16 ** idx)\n",
        "    else:\n",
        "      dec += int(num) * (16 ** idx)\n",
        "\n",
        "  return dec"
      ]
    },
    {
      "cell_type": "code",
      "execution_count": null,
      "metadata": {
        "colab": {
          "base_uri": "https://localhost:8080/"
        },
        "id": "orCpr4uwm26W",
        "outputId": "384ed18a-6915-451c-934a-b29b66917ea6"
      },
      "outputs": [
        {
          "data": {
            "text/plain": [
              "95"
            ]
          },
          "execution_count": 75,
          "metadata": {},
          "output_type": "execute_result"
        }
      ],
      "source": [
        "hex_output('5f')"
      ]
    },
    {
      "cell_type": "code",
      "execution_count": null,
      "metadata": {
        "id": "AbQvKc1e9Hyq"
      },
      "outputs": [],
      "source": [
        "def hex_output_v2(hex):\n",
        "  hex = hex.upper()\n",
        "  dec = 0\n",
        "\n",
        "  # use of reversed() and int()\n",
        "  for power, num in enumerate(reversed(hex)):\n",
        "    dec += int(num, 16) * (16 ** power)\n",
        "\n",
        "  return dec"
      ]
    },
    {
      "cell_type": "code",
      "execution_count": null,
      "metadata": {
        "colab": {
          "base_uri": "https://localhost:8080/"
        },
        "id": "9Q5_xKkV9lEK",
        "outputId": "e3a5796e-0e06-4800-e310-19ab9a74e73e"
      },
      "outputs": [
        {
          "data": {
            "text/plain": [
              "95"
            ]
          },
          "execution_count": 84,
          "metadata": {},
          "output_type": "execute_result"
        }
      ],
      "source": [
        "hex_output_v2('5f')"
      ]
    },
    {
      "cell_type": "code",
      "execution_count": null,
      "metadata": {
        "id": "0L1mHV-r_FKh"
      },
      "outputs": [],
      "source": [
        "def hex_output_robust(hex):\n",
        "  # 0-9: 48 - 57; A-F: 65/97 - 70/102\n",
        "  hex_vals = ['0', '1', '2', '3', '4', '5', '6', '7', '8', '9', 'A', 'B', 'C', 'D', 'E', 'F']\n",
        "  hex = hex.upper()\n",
        "  dec = 0\n",
        "  for power, num in enumerate(hex[::-1]):\n",
        "    if num not in hex_vals:\n",
        "      raise ValueError(\"hex values are '0', '1', '2', '3', '4', '5', '6', '7', '8', '9', 'A', 'B', 'C', 'D', 'E', 'F'\")\n",
        "    dec += hex_vals.index(num) * (16 ** power)\n",
        "  return dec"
      ]
    },
    {
      "cell_type": "code",
      "execution_count": null,
      "metadata": {
        "id": "GYbZmiR9_p32"
      },
      "outputs": [],
      "source": [
        "hex_output_robust('57CJ')"
      ]
    },
    {
      "cell_type": "markdown",
      "metadata": {
        "id": "GsH7vKEh78I9"
      },
      "source": [
        "## Exercise 5 & 6"
      ]
    },
    {
      "cell_type": "code",
      "execution_count": null,
      "metadata": {
        "id": "lHmfl8tY8baw"
      },
      "outputs": [],
      "source": [
        "def pig_latin(english):\n",
        "  pig_latin = ''\n",
        "  for word in english.lower().split():\n",
        "    if word[0] in 'aeiou':\n",
        "      pig_latin += f\"{word}way \"\n",
        "    else:\n",
        "      pig_latin += f\"{word[1:]}{word[0]}ay \"\n",
        "  return pig_latin"
      ]
    },
    {
      "cell_type": "code",
      "execution_count": null,
      "metadata": {
        "colab": {
          "base_uri": "https://localhost:8080/",
          "height": 35
        },
        "id": "USP-KCcKDW9C",
        "outputId": "bde9d533-7680-42f8-c9ac-e196923a5bfc"
      },
      "outputs": [
        {
          "data": {
            "application/vnd.google.colaboratory.intrinsic+json": {
              "type": "string"
            },
            "text/plain": [
              "'airway eatway ythonpay omputercay '"
            ]
          },
          "execution_count": 121,
          "metadata": {},
          "output_type": "execute_result"
        }
      ],
      "source": [
        "pig_latin('air eat python computer')"
      ]
    },
    {
      "cell_type": "markdown",
      "metadata": {
        "id": "2WY-IKYA8C3H"
      },
      "source": [
        "## Exercise 7"
      ]
    },
    {
      "cell_type": "code",
      "execution_count": null,
      "metadata": {
        "id": "9CfEvsuJ7-9H"
      },
      "outputs": [],
      "source": [
        "def ubbi_dubbi(word):\n",
        "  \"\"\"\n",
        "  takes a single word (string) as an argument.\n",
        "  It returns a string, the word’s translation into Ubbi Dubbi.\n",
        "  So if the function is called with 'octopus', the function\n",
        "  will return the string 'uboctubopubus'.\n",
        "  \"\"\"\n",
        "\n",
        "  translated = ''\n",
        "  for letter in word:\n",
        "    if letter in 'aeiou':\n",
        "      translated += f\"ub{letter}\"\n",
        "    else:\n",
        "      translated += letter\n",
        "\n",
        "  return translated"
      ]
    },
    {
      "cell_type": "code",
      "execution_count": null,
      "metadata": {
        "colab": {
          "base_uri": "https://localhost:8080/",
          "height": 35
        },
        "id": "ivFldLLaR2TH",
        "outputId": "5cb96c64-0f83-46f1-c04a-8264ecc86f39"
      },
      "outputs": [
        {
          "data": {
            "application/vnd.google.colaboratory.intrinsic+json": {
              "type": "string"
            },
            "text/plain": [
              "'uboctubopubus'"
            ]
          },
          "execution_count": 2,
          "metadata": {},
          "output_type": "execute_result"
        }
      ],
      "source": [
        "ubbi_dubbi('octopus')"
      ]
    },
    {
      "cell_type": "markdown",
      "metadata": {
        "id": "HdqMJj0wTWIR"
      },
      "source": [
        "## Exercise 8"
      ]
    },
    {
      "cell_type": "code",
      "execution_count": null,
      "metadata": {
        "id": "gAfzuTrxTVbT"
      },
      "outputs": [],
      "source": [
        "def strsort(word):\n",
        "  \"\"\"\n",
        "  takes a single string as its input and returns a string.\n",
        "  The returned string should contain the same characters as the input,\n",
        "  except that its characters should be sorted in order,\n",
        "  from the lowest Unicode value to the highest Unicode value.\n",
        "  For example, the result of invoking strsort('cba') will be the string abc.\n",
        "  \"\"\"\n",
        "\n",
        "  unicode_vals = []\n",
        "  unicode_vals.append(ord(word[0]))\n",
        "\n",
        "  for letter in word[1:]:\n",
        "    cur_val = ord(letter)\n",
        "    min_idx = len(unicode_vals)\n",
        "    for i in range(len(unicode_vals)):\n",
        "      if cur_val < unicode_vals[i]:\n",
        "        min_idx = i\n",
        "        break\n",
        "    unicode_vals.insert(min_idx, cur_val)\n",
        "\n",
        "  final = \"\".join([chr(letter) for letter in unicode_vals])\n",
        "\n",
        "  return final"
      ]
    },
    {
      "cell_type": "code",
      "execution_count": null,
      "metadata": {
        "colab": {
          "base_uri": "https://localhost:8080/",
          "height": 35
        },
        "id": "E_Y6J7zER61y",
        "outputId": "7a6107c6-7777-45a6-b0a3-8264b8d4b580"
      },
      "outputs": [
        {
          "data": {
            "application/vnd.google.colaboratory.intrinsic+json": {
              "type": "string"
            },
            "text/plain": [
              "'xyz'"
            ]
          },
          "execution_count": 20,
          "metadata": {},
          "output_type": "execute_result"
        }
      ],
      "source": [
        "strsort('zyx')"
      ]
    },
    {
      "cell_type": "markdown",
      "metadata": {
        "id": "svFtOxZM2vgI"
      },
      "source": [
        "## Exercise 9"
      ]
    },
    {
      "cell_type": "code",
      "execution_count": null,
      "metadata": {
        "id": "l8-mgGvK3Evw"
      },
      "outputs": [],
      "source": [
        "def firstlast(sequence):\n",
        "  \"\"\"\n",
        "  takes a sequence (string, list, or tuple) and returns the first and last elements of that\n",
        "  sequence, in a two-element sequence of the same type. So firstlast('abc') will\n",
        "  return the string ac, while firstlast([1,2,3,4]) will return the list [1,4].\n",
        "  \"\"\"\n",
        "\n",
        "  return sequence[0::len(sequence)-1]"
      ]
    },
    {
      "cell_type": "code",
      "execution_count": null,
      "metadata": {
        "colab": {
          "base_uri": "https://localhost:8080/"
        },
        "id": "Zq_nK18I5qbm",
        "outputId": "0c5f0f3a-5797-456a-8d95-7e9b3dde0fa4"
      },
      "outputs": [
        {
          "name": "stdout",
          "output_type": "stream",
          "text": [
            "<class 'str'>\n",
            "<class 'list'>\n"
          ]
        }
      ],
      "source": [
        "print(type(firstlast('abc')))\n",
        "print(type(firstlast([1,2,3,4])))"
      ]
    },
    {
      "cell_type": "markdown",
      "metadata": {
        "id": "KxnlAwcZaq3T"
      },
      "source": [
        "## Exercise 10"
      ]
    },
    {
      "cell_type": "code",
      "execution_count": null,
      "metadata": {
        "id": "5GL_1K3o9XHA"
      },
      "outputs": [],
      "source": [
        "def mysum(*args):\n",
        "  final = args[0]\n",
        "  for val in args[1:]:\n",
        "    final += val\n",
        "  return final"
      ]
    },
    {
      "cell_type": "code",
      "execution_count": null,
      "metadata": {
        "colab": {
          "base_uri": "https://localhost:8080/",
          "height": 35
        },
        "id": "A-yedV3afZpE",
        "outputId": "89a32581-3a67-46ce-f1fb-51cb2ec2cd8d"
      },
      "outputs": [
        {
          "data": {
            "application/vnd.google.colaboratory.intrinsic+json": {
              "type": "string"
            },
            "text/plain": [
              "'abcdef'"
            ]
          },
          "execution_count": 45,
          "metadata": {},
          "output_type": "execute_result"
        }
      ],
      "source": [
        "mysum('abc', 'def')"
      ]
    },
    {
      "cell_type": "code",
      "execution_count": null,
      "metadata": {
        "colab": {
          "base_uri": "https://localhost:8080/"
        },
        "id": "zhRPEoAgfdIG",
        "outputId": "1f17ee7b-9ca2-4618-a6e3-db803d6c8cc6"
      },
      "outputs": [
        {
          "data": {
            "text/plain": [
              "[1, 2, 3, 4, 5, 6]"
            ]
          },
          "execution_count": 47,
          "metadata": {},
          "output_type": "execute_result"
        }
      ],
      "source": [
        "mysum([1,2,3], [4,5,6])"
      ]
    },
    {
      "cell_type": "code",
      "execution_count": null,
      "metadata": {
        "colab": {
          "base_uri": "https://localhost:8080/"
        },
        "id": "nqGhD51YffBa",
        "outputId": "f0ba4a2e-aa6c-454b-83cb-003699ce94b2"
      },
      "outputs": [
        {
          "data": {
            "text/plain": [
              "6"
            ]
          },
          "execution_count": 48,
          "metadata": {},
          "output_type": "execute_result"
        }
      ],
      "source": [
        "mysum(1,2,3)"
      ]
    },
    {
      "cell_type": "markdown",
      "metadata": {
        "id": "RMJQF2NsiXyb"
      },
      "source": [
        "## Exercise 11"
      ]
    },
    {
      "cell_type": "code",
      "execution_count": null,
      "metadata": {
        "id": "Zv3Wz6TZjONx"
      },
      "outputs": [],
      "source": [
        "def alphabetize_names(names):\n",
        "  \"\"\"\n",
        "  assumes the existence of a PEOPLE constant defined as shown in the code.\n",
        "  The function should return the list of dicts,\n",
        "  but sorted by last name and then by first name.\n",
        "  \"\"\"\n",
        "  return sorted(names, key=operator.itemgetter('last','first'))"
      ]
    },
    {
      "cell_type": "code",
      "execution_count": null,
      "metadata": {
        "id": "y6UanuVMfhqs"
      },
      "outputs": [],
      "source": [
        "PEOPLE = [{'first':'Reuven', 'last':'Lerner', 'email':'reuven@lerner.co.il'},\n",
        "{'first':'Donald', 'last':'Trump', 'email':'president@whitehouse.gov'},\n",
        "{'first':'Vladimir', 'last':'Putin', 'email':'president@kremvax.ru'}]"
      ]
    },
    {
      "cell_type": "code",
      "execution_count": null,
      "metadata": {
        "colab": {
          "base_uri": "https://localhost:8080/"
        },
        "id": "qChGnE7jkU1s",
        "outputId": "a232056a-fa2f-4041-d9df-d5864e5737af"
      },
      "outputs": [
        {
          "data": {
            "text/plain": [
              "[{'first': 'Reuven', 'last': 'Lerner', 'email': 'reuven@lerner.co.il'},\n",
              " {'first': 'Vladimir', 'last': 'Putin', 'email': 'president@kremvax.ru'},\n",
              " {'first': 'Donald', 'last': 'Trump', 'email': 'president@whitehouse.gov'}]"
            ]
          },
          "execution_count": 4,
          "metadata": {},
          "output_type": "execute_result"
        }
      ],
      "source": [
        "alphabetize_names(PEOPLE)"
      ]
    },
    {
      "cell_type": "code",
      "execution_count": null,
      "metadata": {
        "id": "Io01NscukWuP"
      },
      "outputs": [],
      "source": [
        "def sort_abs_val(numbers):\n",
        "  \"\"\"Given a sequence of positive and negative numbers, sort them by absolute value\"\"\"\n",
        "  return sorted(numbers, key=lambda x: abs(x))"
      ]
    },
    {
      "cell_type": "code",
      "execution_count": null,
      "metadata": {
        "id": "TL-dFhnClp5b"
      },
      "outputs": [],
      "source": [
        "num_list = [-1, 4, -7, 3, 2, 11, -21]"
      ]
    },
    {
      "cell_type": "code",
      "execution_count": null,
      "metadata": {
        "colab": {
          "base_uri": "https://localhost:8080/"
        },
        "id": "b_iqt0sImAAf",
        "outputId": "2df64483-0a34-4500-d37b-6e704d14e241"
      },
      "outputs": [
        {
          "data": {
            "text/plain": [
              "[-1, 2, 3, 4, -7, 11, -21]"
            ]
          },
          "execution_count": 7,
          "metadata": {},
          "output_type": "execute_result"
        }
      ],
      "source": [
        "sort_abs_val(num_list)"
      ]
    },
    {
      "cell_type": "markdown",
      "metadata": {
        "id": "xq2UFfCepBPe"
      },
      "source": [
        "## Exercise 12"
      ]
    },
    {
      "cell_type": "code",
      "execution_count": null,
      "metadata": {
        "id": "4q28OwykpBBm"
      },
      "outputs": [],
      "source": [
        "def most_repeating_word(strings):\n",
        "  \"\"\"\n",
        "  Takes a sequence of strings as input.\n",
        "  The function should return the string that contains the\n",
        "  greatest number of repeated letters.\n",
        "  \"\"\"\n",
        "  most_repeating_word = None\n",
        "  count = 0\n",
        "  for word in strings:\n",
        "    max_repeat = Counter(word).most_common(1)[0][1]\n",
        "    if max_repeat > count:\n",
        "      most_repeating_word = word\n",
        "      count = max_repeat\n",
        "  return most_repeating_word"
      ]
    },
    {
      "cell_type": "code",
      "execution_count": null,
      "metadata": {
        "id": "cWkvGyE6xUnw"
      },
      "outputs": [],
      "source": [
        "def most_repeating_word_optimized(words):\n",
        "  \"\"\"\n",
        "  Takes a sequence of strings as input.\n",
        "  The function should return the string that contains the\n",
        "  greatest number of repeated letters.\n",
        "  \"\"\"\n",
        "  return max(words, key=lambda word: Counter(word).most_common(1)[0][1])"
      ]
    },
    {
      "cell_type": "code",
      "execution_count": null,
      "metadata": {
        "id": "uMl6NcPimC-S"
      },
      "outputs": [],
      "source": [
        "words = ['this', 'is', 'an', 'elementary', 'test', 'example']"
      ]
    },
    {
      "cell_type": "code",
      "execution_count": null,
      "metadata": {
        "colab": {
          "base_uri": "https://localhost:8080/",
          "height": 35
        },
        "id": "XfIJMx9OrMB6",
        "outputId": "d0dc35d0-aae5-4ba3-e346-c6a8a1bb2879"
      },
      "outputs": [
        {
          "data": {
            "application/vnd.google.colaboratory.intrinsic+json": {
              "type": "string"
            },
            "text/plain": [
              "'elementary'"
            ]
          },
          "execution_count": 71,
          "metadata": {},
          "output_type": "execute_result"
        }
      ],
      "source": [
        "most_repeating_word(words)"
      ]
    },
    {
      "cell_type": "code",
      "execution_count": null,
      "metadata": {
        "colab": {
          "base_uri": "https://localhost:8080/",
          "height": 35
        },
        "id": "X700oH-rrPbb",
        "outputId": "e34a47be-d445-4560-bb02-c82a6abf6a45"
      },
      "outputs": [
        {
          "data": {
            "application/vnd.google.colaboratory.intrinsic+json": {
              "type": "string"
            },
            "text/plain": [
              "'elementary'"
            ]
          },
          "execution_count": 72,
          "metadata": {},
          "output_type": "execute_result"
        }
      ],
      "source": [
        "most_repeating_word_optimized(words)"
      ]
    },
    {
      "cell_type": "markdown",
      "metadata": {
        "id": "zhzedjsp6afa"
      },
      "source": [
        "## Exercise 13"
      ]
    },
    {
      "cell_type": "code",
      "execution_count": null,
      "metadata": {
        "id": "SsPida_b7QbG"
      },
      "outputs": [],
      "source": [
        "from os import truncate\n",
        "def format_sort_records(peoples):\n",
        "  \"\"\"\n",
        "  Takes the PEOPLE list and returns\n",
        "  a formatted string that looks like the following:\n",
        "    Trump Donald 7.85\n",
        "    Putin Vladimir 3.63\n",
        "    Xi Jinping 10.60\n",
        "\n",
        "  Notice that the last name is printed before the first name\n",
        "  (taking into account that Chinese names are generally shown that way),\n",
        "  followed by a decimal-aligned indication of how long it’ll take for\n",
        "  each leader to arrive in London. Each name should be printed\n",
        "  in a 10-character field, and the time should be printed in a\n",
        "  5-character field, with one space character of padding between\n",
        "  each of the columns. Travel time should display only two digits\n",
        "  after the decimal point, which means that even though the input for Xi\n",
        "  Jinping’s flight is 10.603 hours, the value displayed should be 10.60\n",
        "  \"\"\"\n",
        "\n",
        "  for people in peoples:\n",
        "    print(f\"{people[1][0:10:]} {people[0][0:10:]} {round(people[2], 2)}\")\n"
      ]
    },
    {
      "cell_type": "code",
      "execution_count": null,
      "metadata": {
        "id": "aepn2N60FKFK"
      },
      "outputs": [],
      "source": [
        "def format_sort_records_optimized(peoples):\n",
        "  for people in peoples:\n",
        "    print(\"{1:10} {0:10} {2:5.2f}\\n\".format(*people))"
      ]
    },
    {
      "cell_type": "code",
      "execution_count": null,
      "metadata": {
        "id": "VMchsKFlxkaM"
      },
      "outputs": [],
      "source": [
        "PEOPLE = [('Donald', 'Trump', 7.85),\n",
        "('Vladimir', 'Putin', 3.626),\n",
        "('Jinping', 'Xi', 10.603)]"
      ]
    },
    {
      "cell_type": "code",
      "execution_count": null,
      "metadata": {
        "colab": {
          "base_uri": "https://localhost:8080/"
        },
        "id": "IVLnzT6U-eqV",
        "outputId": "46f89dc2-2b93-48d7-b6f9-007d817d79eb"
      },
      "outputs": [
        {
          "name": "stdout",
          "output_type": "stream",
          "text": [
            "Trump Donald 7.85\n",
            "Putin Vladimir 3.63\n",
            "Xi Jinping 10.6\n"
          ]
        }
      ],
      "source": [
        "format_sort_records(PEOPLE)"
      ]
    },
    {
      "cell_type": "code",
      "execution_count": null,
      "metadata": {
        "colab": {
          "base_uri": "https://localhost:8080/"
        },
        "id": "XexHmgD3-gMV",
        "outputId": "ab8d01fa-2576-4d6d-f724-577381a98b12"
      },
      "outputs": [
        {
          "name": "stdout",
          "output_type": "stream",
          "text": [
            "Trump      Donald      7.85\n",
            "\n",
            "Putin      Vladimir    3.63\n",
            "\n",
            "Xi         Jinping    10.60\n",
            "\n"
          ]
        }
      ],
      "source": [
        "format_sort_records_optimized(PEOPLE)"
      ]
    },
    {
      "cell_type": "markdown",
      "metadata": {
        "id": "N_6udUwO9UlF"
      },
      "source": [
        "## Exercise 14"
      ]
    },
    {
      "cell_type": "code",
      "execution_count": null,
      "metadata": {
        "id": "u8PqHPq_9a4-"
      },
      "outputs": [],
      "source": [
        "MENU = {\"fish\": 12, \"chips\": 15, \"soda\": 20}\n",
        "\n",
        "def restaurant():\n",
        "  \"\"\"\n",
        "  Asks the user to enter an order:\n",
        "    - If the user enters the name of a dish on the menu, the program prints the price\n",
        "  and the running total. It then asks the user again for their order.\n",
        "    - If the user enters the name of a dish not on the menu, the program scolds the\n",
        "user (mildly). It then asks the user again for their order.\n",
        "    - If the user enters an empty string, the program stops prompting and prints the\n",
        "total amount.\n",
        "  \"\"\"\n",
        "  order = input(\"Enter an order: \")\n",
        "  total = 0\n",
        "  while order != \"\":\n",
        "    if order in MENU:\n",
        "      total += MENU[order]\n",
        "    elif order not in MENU:\n",
        "      print(\"Item not in menu.\")\n",
        "    order = input(\"Enter an order: \")\n",
        "  return f\"Your total is ${total}.\""
      ]
    },
    {
      "cell_type": "code",
      "execution_count": null,
      "metadata": {
        "colab": {
          "base_uri": "https://localhost:8080/",
          "height": 125
        },
        "id": "AmWDtWgvXRUO",
        "outputId": "cdd3022e-8a34-4741-b364-4d6d386dcf22"
      },
      "outputs": [
        {
          "name": "stdout",
          "output_type": "stream",
          "text": [
            "Enter an order: fish\n",
            "Enter an order: peos\n",
            "Item not in menu.\n",
            "Enter an order: chips\n",
            "Enter an order: \n"
          ]
        },
        {
          "data": {
            "application/vnd.google.colaboratory.intrinsic+json": {
              "type": "string"
            },
            "text/plain": [
              "'Your total is $27.'"
            ]
          },
          "execution_count": 4,
          "metadata": {},
          "output_type": "execute_result"
        }
      ],
      "source": [
        "restaurant()"
      ]
    },
    {
      "cell_type": "markdown",
      "metadata": {
        "id": "avqc-ngGdQbr"
      },
      "source": [
        "# Exercise 15"
      ]
    },
    {
      "cell_type": "code",
      "execution_count": null,
      "metadata": {
        "id": "FyLjejNoXTNr"
      },
      "outputs": [],
      "source": [
        "def get_rainfall():\n",
        "  city_dict = {}\n",
        "  city = input(\"Enter a city: \")\n",
        "  while city != \"\":\n",
        "    rain = input(\"Rainfall amount: \")\n",
        "    if city in city_dict:\n",
        "      city_dict[city] += int(rain)\n",
        "    else:\n",
        "      city_dict[city] = int(rain)\n",
        "    city = input(\"Enter a city: \")\n",
        "  for city, rain in city_dict.items():\n",
        "    print(f\"{city}: {rain}\")\n"
      ]
    },
    {
      "cell_type": "code",
      "execution_count": null,
      "metadata": {
        "colab": {
          "base_uri": "https://localhost:8080/"
        },
        "id": "RBdR16H3gU5H",
        "outputId": "4a48a2b7-f3b6-43d5-e271-21dbed4e6048"
      },
      "outputs": [
        {
          "name": "stdout",
          "output_type": "stream",
          "text": [
            "Enter a city: Boston\n",
            "Rainfall amount: 4\n",
            "Enter a city: NYC\n",
            "Rainfall amount: 4\n",
            "Enter a city: Boston\n",
            "Rainfall amount: 4\n",
            "Enter a city: \n",
            "{'Boston': 8, 'NYC': 4}\n",
            "Boston: 8\n",
            "NYC: 4\n"
          ]
        }
      ],
      "source": [
        "get_rainfall()"
      ]
    },
    {
      "cell_type": "markdown",
      "metadata": {
        "id": "ftaKxROLq7IM"
      },
      "source": [
        "# Exercise 16"
      ]
    },
    {
      "cell_type": "code",
      "execution_count": null,
      "metadata": {
        "id": "8x0CGpACkRsB"
      },
      "outputs": [],
      "source": [
        "def dictdiff(dict1, dict2):\n",
        "  \"\"\"\n",
        "  Takes two dicts as arguments.\n",
        "  The function returns a new dict that expresses the difference between the two dicts.\n",
        "  If there are no differences between the dicts, dictdiff returns an empty dict. For\n",
        "  each key-value pair that differs, the return value of dictdiff will have a key-value pair\n",
        "  in which the value is a list containing the values from the two different dicts. If one of\n",
        "  the dicts doesn’t contain that key, it should contain None\n",
        "  \"\"\"\n",
        "  keys = [key for key in dict1.keys()] + [key for key in dict2.keys()]\n",
        "  dict_diff = {}\n",
        "  for key in keys:\n",
        "    if (key not in dict1) or (key not in dict2) or (dict1[key] != dict2[key]):\n",
        "      dict1_val = None if key not in dict1 else dict1[key]\n",
        "      dict2_val = None if key not in dict2 else dict2[key]\n",
        "      dict_diff[key] = [dict1_val, dict2_val]\n",
        "  return dict_diff"
      ]
    },
    {
      "cell_type": "code",
      "execution_count": null,
      "metadata": {
        "id": "14aOfbSs0nfN"
      },
      "outputs": [],
      "source": [
        "def dictdiff(dict1, dict2):\n",
        "  \"\"\"\n",
        "  Takes two dicts as arguments.\n",
        "  The function returns a new dict that expresses the difference between the two dicts.\n",
        "  If there are no differences between the dicts, dictdiff returns an empty dict. For\n",
        "  each key-value pair that differs, the return value of dictdiff will have a key-value pair\n",
        "  in which the value is a list containing the values from the two different dicts. If one of\n",
        "  the dicts doesn’t contain that key, it should contain None\n",
        "  \"\"\"\n",
        "\n",
        "  allkeys = dict1.keys() | dict2.keys()\n",
        "  dict_diff = {}\n",
        "  for key in allkeys:\n",
        "    if dict1.get(key) != dict2.get(key):\n",
        "      dict_diff[key] = [dict1.get(key), dict2.get(key)]\n",
        "  return dict_diff"
      ]
    },
    {
      "cell_type": "code",
      "execution_count": null,
      "metadata": {
        "colab": {
          "base_uri": "https://localhost:8080/"
        },
        "id": "e5Zi06fnvj80",
        "outputId": "e1d2a027-ada2-4ed7-f0e2-f6ac40d512a1"
      },
      "outputs": [
        {
          "name": "stdout",
          "output_type": "stream",
          "text": [
            "{}\n",
            "{'c': [3, 4]}\n",
            "{'d': [3, None], 'c': [None, 4]}\n",
            "{'d': [None, 4], 'c': [3, None]}\n"
          ]
        }
      ],
      "source": [
        "d1 = {'a':1, 'b':2, 'c':3}\n",
        "d2 = {'a':1, 'b':2, 'c':4}\n",
        "d3 = {'a':1, 'b':2, 'd':3}\n",
        "d4 = {'a':1, 'b':2, 'c':4}\n",
        "d5 = {'a':1, 'b':2, 'd':4}\n",
        "\n",
        "print(dictdiff(d1, d1))\n",
        "print(dictdiff(d1, d2))\n",
        "print(dictdiff(d3, d4))\n",
        "print(dictdiff(d1, d5))"
      ]
    },
    {
      "cell_type": "markdown",
      "metadata": {
        "id": "bn-NDqBLpAgt"
      },
      "source": [
        "# Exercise 17"
      ]
    },
    {
      "cell_type": "code",
      "execution_count": null,
      "metadata": {
        "id": "lvC3FucHphmj"
      },
      "outputs": [],
      "source": [
        "def how_many_different_numbers(numbers):\n",
        "  return len(set(numbers))"
      ]
    },
    {
      "cell_type": "code",
      "execution_count": null,
      "metadata": {
        "colab": {
          "base_uri": "https://localhost:8080/"
        },
        "id": "SRcCXYhKpEcT",
        "outputId": "af0a6173-b586-450e-f670-78c3707106d4"
      },
      "outputs": [
        {
          "name": "stdout",
          "output_type": "stream",
          "text": [
            "4\n"
          ]
        }
      ],
      "source": [
        "numbers = [1, 2, 3, 1, 2, 3, 4, 1]\n",
        "print(how_many_different_numbers(numbers))"
      ]
    },
    {
      "cell_type": "markdown",
      "metadata": {
        "id": "66Njd70qq9wX"
      },
      "source": [
        "# Exercise 18"
      ]
    },
    {
      "cell_type": "code",
      "execution_count": 6,
      "metadata": {},
      "outputs": [],
      "source": [
        "fakefile = StringIO('''\n",
        "nobody:*:-2:-2::0:0:Unprivileged User:/var/empty:/usr/bin/false\n",
        "root:*:0:0::0:0:System Administrator:/var/root:/bin/sh\n",
        "daemon:*:1:1::0:0:System Services:/var/root:/usr/bin/false\n",
        "''')"
      ]
    },
    {
      "cell_type": "code",
      "execution_count": 3,
      "metadata": {
        "id": "-3CSmGHJq-wf"
      },
      "outputs": [],
      "source": [
        "def get_final_line(filepath):\n",
        "  with open(filepath) as f:\n",
        "    lines = f.read()\n",
        "    return(lines[-1])"
      ]
    },
    {
      "cell_type": "code",
      "execution_count": 4,
      "metadata": {
        "colab": {
          "base_uri": "https://localhost:8080/",
          "height": 35
        },
        "id": "ygJfi7ar1gpA",
        "outputId": "347bbb9a-ff3b-459d-eaf4-cc420336114d"
      },
      "outputs": [
        {
          "data": {
            "text/plain": [
              "'\\n'"
            ]
          },
          "execution_count": 4,
          "metadata": {},
          "output_type": "execute_result"
        }
      ],
      "source": [
        "get_final_line('exercise_18.txt')"
      ]
    },
    {
      "cell_type": "markdown",
      "metadata": {
        "id": "nXhdd_AV1nUs"
      },
      "source": [
        "### 18.1"
      ]
    },
    {
      "cell_type": "code",
      "execution_count": 16,
      "metadata": {},
      "outputs": [],
      "source": [
        "### Iterate over the lines of a text file. Find all of the words (i.e., non-whitespace\n",
        "### surrounded by whitespace) that contain only integers, and sum them.\n",
        "def sum_integers_from_file(filepath):\n",
        "    sum = 0\n",
        "    for current_line in open(filepath):\n",
        "        for char in current_line:\n",
        "            try:\n",
        "                sum += int(char)\n",
        "            except:\n",
        "                pass\n",
        "            \n",
        "    return sum"
      ]
    },
    {
      "cell_type": "code",
      "execution_count": 17,
      "metadata": {},
      "outputs": [
        {
          "data": {
            "text/plain": [
              "6"
            ]
          },
          "execution_count": 17,
          "metadata": {},
          "output_type": "execute_result"
        }
      ],
      "source": [
        "sum_integers_from_file('exercise_18_fakefile.txt')"
      ]
    },
    {
      "cell_type": "code",
      "execution_count": 7,
      "metadata": {},
      "outputs": [],
      "source": [
        "\"\"\"\n",
        "Create a text file (using an editor, not necessarily Python) containing two tabseparated columns, with each column containing a number. Then use Python\n",
        "to read through the file you’ve created. For each line, multiply each first number by the second, and then sum the results from all the lines. Ignore any line\n",
        "that doesn’t contain two numeric columns.\n",
        "\"\"\"\n",
        "\n",
        "def mul_and_sum_from_file(filepath):\n",
        "    sum = 0\n",
        "    for current_line in open(filepath):\n",
        "        all_ints_in_line = re.findall('\\d+', current_line)\n",
        "        mul = 1\n",
        "        for ints in all_ints_in_line:\n",
        "            mul *= int(ints)\n",
        "        sum += mul\n",
        "    return sum"
      ]
    },
    {
      "cell_type": "code",
      "execution_count": 8,
      "metadata": {},
      "outputs": [
        {
          "data": {
            "text/plain": [
              "190"
            ]
          },
          "execution_count": 8,
          "metadata": {},
          "output_type": "execute_result"
        }
      ],
      "source": [
        "mul_and_sum_from_file('exercise_18_2.txt')"
      ]
    },
    {
      "cell_type": "code",
      "execution_count": null,
      "metadata": {},
      "outputs": [],
      "source": []
    }
  ],
  "metadata": {
    "colab": {
      "collapsed_sections": [
        "drLlWA9fZbDU",
        "OvmvOcsiZlDV",
        "c4LIXz3qZyVM",
        "CUtp11M8Z5Ql",
        "GsH7vKEh78I9",
        "2WY-IKYA8C3H",
        "HdqMJj0wTWIR",
        "svFtOxZM2vgI",
        "KxnlAwcZaq3T",
        "RMJQF2NsiXyb",
        "xq2UFfCepBPe",
        "zhzedjsp6afa",
        "N_6udUwO9UlF",
        "avqc-ngGdQbr",
        "ftaKxROLq7IM",
        "bn-NDqBLpAgt"
      ],
      "provenance": []
    },
    "kernelspec": {
      "display_name": "Python 3",
      "name": "python3"
    },
    "language_info": {
      "codemirror_mode": {
        "name": "ipython",
        "version": 3
      },
      "file_extension": ".py",
      "mimetype": "text/x-python",
      "name": "python",
      "nbconvert_exporter": "python",
      "pygments_lexer": "ipython3",
      "version": "3.11.7"
    }
  },
  "nbformat": 4,
  "nbformat_minor": 0
}
