{
 "cells": [
  {
   "cell_type": "code",
   "execution_count": 2,
   "metadata": {},
   "outputs": [],
   "source": [
    "import math\n",
    "import numpy as np"
   ]
  },
  {
   "cell_type": "markdown",
   "metadata": {},
   "source": [
    "# Binary Search\n",
    "\n",
    "$O(logn)$"
   ]
  },
  {
   "cell_type": "code",
   "execution_count": 21,
   "metadata": {},
   "outputs": [],
   "source": [
    "def binary_search(sorted_list, target):\n",
    "  low = 0\n",
    "  high = len(sorted_list) - 1\n",
    "  \n",
    "  while high != low:\n",
    "    mid = (low + high) // 2\n",
    "    guess = sorted_list[mid]\n",
    "    if guess == target:\n",
    "      return mid\n",
    "    elif guess > target:\n",
    "      high = mid - 1\n",
    "    else:\n",
    "      low = mid + 1\n",
    "  \n",
    "  return None"
   ]
  },
  {
   "cell_type": "code",
   "execution_count": 22,
   "metadata": {},
   "outputs": [
    {
     "name": "stdout",
     "output_type": "stream",
     "text": [
      "3\n"
     ]
    }
   ],
   "source": [
    "my_list = [0, 1, 2, 3, 4, 5, 6, 7, 8, 9, 10, 11]\n",
    "print(binary_search(my_list, 3))"
   ]
  },
  {
   "cell_type": "markdown",
   "metadata": {},
   "source": [
    "# Selection Sort\n",
    "\n",
    "$O(n^2)$"
   ]
  },
  {
   "cell_type": "code",
   "execution_count": 14,
   "metadata": {},
   "outputs": [],
   "source": [
    "def findSmallest(arr):\n",
    "    smallest_idx = 0\n",
    "    for i in range(1, len(arr)):\n",
    "       if arr[i] < arr[smallest_idx]:\n",
    "           smallest_idx = i\n",
    "    return smallest_idx\n",
    "\n",
    "def selectionSort(arr):\n",
    "    sorted_arr = []\n",
    "    for i in range(0, len(arr)):\n",
    "        smallest = findSmallest(arr)\n",
    "        sorted_arr.append(arr.pop(smallest))\n",
    "    return sorted_arr    "
   ]
  },
  {
   "cell_type": "code",
   "execution_count": 15,
   "metadata": {},
   "outputs": [
    {
     "name": "stdout",
     "output_type": "stream",
     "text": [
      "[1, 8, 3, 10, 2, 6]\n",
      "[1, 2, 3, 6, 8, 10]\n"
     ]
    }
   ],
   "source": [
    "arr = [1, 8, 3, 10, 2, 6]\n",
    "print(arr)\n",
    "sorted_arr = selectionSort(arr)\n",
    "print(sorted_arr)"
   ]
  },
  {
   "cell_type": "code",
   "execution_count": null,
   "metadata": {},
   "outputs": [],
   "source": []
  }
 ],
 "metadata": {
  "kernelspec": {
   "display_name": ".venv",
   "language": "python",
   "name": "python3"
  },
  "language_info": {
   "codemirror_mode": {
    "name": "ipython",
    "version": 3
   },
   "file_extension": ".py",
   "mimetype": "text/x-python",
   "name": "python",
   "nbconvert_exporter": "python",
   "pygments_lexer": "ipython3",
   "version": "3.11.7"
  }
 },
 "nbformat": 4,
 "nbformat_minor": 2
}
