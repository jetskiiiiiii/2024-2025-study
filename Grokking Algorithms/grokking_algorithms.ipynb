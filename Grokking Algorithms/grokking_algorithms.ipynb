{
 "cells": [
  {
   "cell_type": "code",
   "execution_count": 201,
   "metadata": {},
   "outputs": [],
   "source": [
    "import math\n",
    "import numpy as np\n",
    "import time"
   ]
  },
  {
   "cell_type": "markdown",
   "metadata": {},
   "source": [
    "# Binary Search\n",
    "\n",
    "$O(logn)$"
   ]
  },
  {
   "cell_type": "code",
   "execution_count": 206,
   "metadata": {},
   "outputs": [],
   "source": [
    "def binary_search(sorted_list, target):\n",
    "  low = 0\n",
    "  high = len(sorted_list) - 1\n",
    "  \n",
    "  while high != low:\n",
    "    mid = (low + high) // 2\n",
    "    guess = sorted_list[mid]\n",
    "    if guess == target:\n",
    "      return mid\n",
    "    elif guess > target:\n",
    "      high = mid - 1\n",
    "    else:\n",
    "      low = mid + 1\n",
    "  \n",
    "  return None"
   ]
  },
  {
   "cell_type": "code",
   "execution_count": 213,
   "metadata": {},
   "outputs": [],
   "source": [
    "def binary_search_practice(sorted_list, target):\n",
    "    low = 0\n",
    "    high = len(sorted_list) - 1\n",
    "    while low != high:\n",
    "        mid = (low + high) // 2\n",
    "        if sorted_list[mid] > target:\n",
    "            high = mid - 1\n",
    "        elif sorted_list[mid] < target:\n",
    "            low = mid + 1\n",
    "        else:\n",
    "            return mid"
   ]
  },
  {
   "cell_type": "code",
   "execution_count": 214,
   "metadata": {},
   "outputs": [
    {
     "name": "stdout",
     "output_type": "stream",
     "text": [
      "3\n",
      "-0.0007729530334472656\n",
      "3\n",
      "-9.083747863769531e-05\n"
     ]
    }
   ],
   "source": [
    "my_list = [0, 1, 2, 3, 4, 5, 6, 7, 8, 9, 10, 11]\n",
    "start_time = time.time()\n",
    "print(binary_search(my_list, 3))\n",
    "end_time = time.time()\n",
    "print(start_time-end_time)\n",
    "\n",
    "start_time = time.time()\n",
    "print(binary_search_practice(my_list, 3))\n",
    "end_time = time.time()\n",
    "print(start_time-end_time)"
   ]
  },
  {
   "cell_type": "markdown",
   "metadata": {},
   "source": [
    "# Selection Sort\n",
    "\n",
    "$O(n^2)$"
   ]
  },
  {
   "cell_type": "code",
   "execution_count": 14,
   "metadata": {},
   "outputs": [],
   "source": [
    "def findSmallest(arr):\n",
    "    smallest_idx = 0\n",
    "    for i in range(1, len(arr)):\n",
    "       if arr[i] < arr[smallest_idx]:\n",
    "           smallest_idx = i\n",
    "    return smallest_idx\n",
    "\n",
    "def selectionSort(arr):\n",
    "    sorted_arr = []\n",
    "    for i in range(0, len(arr)):\n",
    "        smallest = findSmallest(arr)\n",
    "        sorted_arr.append(arr.pop(smallest))\n",
    "    return sorted_arr    "
   ]
  },
  {
   "cell_type": "code",
   "execution_count": 15,
   "metadata": {},
   "outputs": [
    {
     "name": "stdout",
     "output_type": "stream",
     "text": [
      "[1, 8, 3, 10, 2, 6]\n",
      "[1, 2, 3, 6, 8, 10]\n"
     ]
    }
   ],
   "source": [
    "arr = [1, 8, 3, 10, 2, 6]\n",
    "print(arr)\n",
    "sorted_arr = selectionSort(arr)\n",
    "print(sorted_arr)"
   ]
  },
  {
   "cell_type": "markdown",
   "metadata": {},
   "source": [
    "# Divide and Conquer"
   ]
  },
  {
   "cell_type": "code",
   "execution_count": 4,
   "metadata": {},
   "outputs": [
    {
     "name": "stdout",
     "output_type": "stream",
     "text": [
      "640 1680 640\n",
      "400\n",
      "1\n"
     ]
    }
   ],
   "source": [
    "array = np.zeros((1680, 640))\n",
    "size_square = min(array.shape[0], array.shape[1])\n",
    "print(size_square, array.shape[0], array.shape[1])\n",
    "print(array.shape[0] % size_square)\n",
    "print(size_square // array.shape[1])"
   ]
  },
  {
   "cell_type": "markdown",
   "metadata": {},
   "source": [
    "## Plot of land example (What is the least number of squares needed to fill up a land?"
   ]
  },
  {
   "cell_type": "code",
   "execution_count": 24,
   "metadata": {},
   "outputs": [],
   "source": [
    "def get_euclid_number(array):\n",
    "    width = array.shape[0]\n",
    "    height = array.shape[1]\n",
    "    print(width, height)\n",
    "    if width % height == 0 or height % width == 0:\n",
    "        return min(width, height)\n",
    "    elif width < height:\n",
    "        print(\"\\n\")\n",
    "        new_height = height - (height // width)*width\n",
    "        print(new_height)\n",
    "        array = np.zeros((new_height, width))\n",
    "        size = get_euclid_number(array)\n",
    "    else:\n",
    "        print(\"\\n\")\n",
    "        new_width = width - (width // height)*height\n",
    "        print(new_width)\n",
    "        array = np.zeros((height, new_width))\n",
    "        size = get_euclid_number(array)\n",
    "    \n",
    "    return size\n",
    "    # return min(array.shape[0], array.shape[1])"
   ]
  },
  {
   "cell_type": "code",
   "execution_count": null,
   "metadata": {},
   "outputs": [],
   "source": [
    "x = get_euclid_number(array)\n",
    "print(f\"Answer: {x}\")"
   ]
  },
  {
   "cell_type": "markdown",
   "metadata": {},
   "source": [
    "## Adding an array of numbers"
   ]
  },
  {
   "cell_type": "code",
   "execution_count": 115,
   "metadata": {},
   "outputs": [],
   "source": [
    "array = [1, 2, 3, 4]\n",
    "# array = []"
   ]
  },
  {
   "cell_type": "code",
   "execution_count": 116,
   "metadata": {},
   "outputs": [],
   "source": [
    "def sum_recursive(array):\n",
    "    if len(array) < 2:\n",
    "        return None\n",
    "    else:\n",
    "        x = array.pop()\n",
    "        array[0] += x\n",
    "        # print(f\"{x}, {array}\\n\")\n",
    "        sum_recursive(array)\n",
    "        \n",
    "    return array[0]\n",
    "    "
   ]
  },
  {
   "cell_type": "code",
   "execution_count": 117,
   "metadata": {},
   "outputs": [
    {
     "data": {
      "text/plain": [
       "10"
      ]
     },
     "execution_count": 117,
     "metadata": {},
     "output_type": "execute_result"
    }
   ],
   "source": [
    "x = sum_recursive(array)\n",
    "x"
   ]
  },
  {
   "cell_type": "markdown",
   "metadata": {},
   "source": [
    "## Counting number of items in array"
   ]
  },
  {
   "cell_type": "code",
   "execution_count": 166,
   "metadata": {},
   "outputs": [],
   "source": [
    "array = [1, 2, 3, 4, 6]"
   ]
  },
  {
   "cell_type": "code",
   "execution_count": 167,
   "metadata": {},
   "outputs": [],
   "source": [
    "def count_items_recursive(array):\n",
    "    if array == []:\n",
    "        return 0\n",
    "    else:\n",
    "        return 1 + count_items_recursive(array[:-1])"
   ]
  },
  {
   "cell_type": "code",
   "execution_count": 168,
   "metadata": {},
   "outputs": [
    {
     "name": "stdout",
     "output_type": "stream",
     "text": [
      "5\n"
     ]
    }
   ],
   "source": [
    "x = count_items_recursive(array)\n",
    "print(x)"
   ]
  },
  {
   "cell_type": "markdown",
   "metadata": {},
   "source": [
    "## Finding max number in list"
   ]
  },
  {
   "cell_type": "code",
   "execution_count": 177,
   "metadata": {},
   "outputs": [],
   "source": [
    "array = [1, 8, 3, 4, 6]"
   ]
  },
  {
   "cell_type": "code",
   "execution_count": 186,
   "metadata": {},
   "outputs": [],
   "source": [
    "def max_number_recursive(array):\n",
    "    if not array:\n",
    "        return -1000\n",
    "    else:\n",
    "        y = array[0]\n",
    "        x = max_number_recursive(array[1:])\n",
    "        # print(f\"{x}, {y}\\n\")\n",
    "        return x if x > y else y"
   ]
  },
  {
   "cell_type": "code",
   "execution_count": 187,
   "metadata": {},
   "outputs": [
    {
     "data": {
      "text/plain": [
       "8"
      ]
     },
     "execution_count": 187,
     "metadata": {},
     "output_type": "execute_result"
    }
   ],
   "source": [
    "x = max_number_recursive(array)\n",
    "x"
   ]
  },
  {
   "cell_type": "code",
   "execution_count": null,
   "metadata": {},
   "outputs": [],
   "source": []
  }
 ],
 "metadata": {
  "kernelspec": {
   "display_name": ".venv",
   "language": "python",
   "name": "python3"
  },
  "language_info": {
   "codemirror_mode": {
    "name": "ipython",
    "version": 3
   },
   "file_extension": ".py",
   "mimetype": "text/x-python",
   "name": "python",
   "nbconvert_exporter": "python",
   "pygments_lexer": "ipython3",
   "version": "3.11.7"
  }
 },
 "nbformat": 4,
 "nbformat_minor": 2
}
