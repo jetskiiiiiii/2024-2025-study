{
 "cells": [
  {
   "cell_type": "code",
   "execution_count": 1,
   "metadata": {},
   "outputs": [],
   "source": [
    "import numpy as np\n",
    "import pandas as pd\n",
    "import matplotlib.pyplot as plt"
   ]
  },
  {
   "cell_type": "code",
   "execution_count": 2,
   "metadata": {},
   "outputs": [
    {
     "name": "stdout",
     "output_type": "stream",
     "text": [
      "Original vector:\n",
      " [[3]\n",
      " [5]] \n",
      "\n",
      " Result of the transformation:\n",
      " [[  9.]\n",
      " [  0.]\n",
      " [-10.]]\n"
     ]
    }
   ],
   "source": [
    "# T of v equal w (transformation of v to w)\n",
    "\n",
    "def T(v):\n",
    "    w = np.zeros((3,1))\n",
    "    w[0,0] = 3*v[0,0]\n",
    "    w[2,0] = -2*v[1,0]\n",
    "    \n",
    "    return w\n",
    "\n",
    "v = np.array([[3], [5]])\n",
    "w = T(v)\n",
    "\n",
    "print(\"Original vector:\\n\", v, \"\\n\\n Result of the transformation:\\n\", w)"
   ]
  },
  {
   "cell_type": "code",
   "execution_count": 3,
   "metadata": {},
   "outputs": [
    {
     "name": "stdout",
     "output_type": "stream",
     "text": [
      "T(k*v):\n",
      " [[ 42.]\n",
      " [  0.]\n",
      " [-56.]] \n",
      " k*T(v):\n",
      " [[ 42.]\n",
      " [  0.]\n",
      " [-56.]] \n",
      "\n",
      "\n",
      "T(u+v):\n",
      " [[ 9.]\n",
      " [ 0.]\n",
      " [-4.]] \n",
      "\n",
      " T(u)+T(v):\n",
      " [[ 9.]\n",
      " [ 0.]\n",
      " [-4.]]\n"
     ]
    }
   ],
   "source": [
    "# Checking for linearity\n",
    "\n",
    "u = np.array([[1], [-2]])\n",
    "v = np.array([[2], [4]])\n",
    "\n",
    "k = 7\n",
    "\n",
    "print(\"T(k*v):\\n\", T(k*v), \"\\n k*T(v):\\n\", k*T(v), \"\\n\\n\")\n",
    "print(\"T(u+v):\\n\", T(u+v), \"\\n\\n T(u)+T(v):\\n\", T(u)+T(v))"
   ]
  },
  {
   "cell_type": "code",
   "execution_count": 5,
   "metadata": {},
   "outputs": [
    {
     "name": "stdout",
     "output_type": "stream",
     "text": [
      "Transformation matrix:\n",
      " [[ 3  0]\n",
      " [ 0  0]\n",
      " [ 0 -2]] \n",
      "\n",
      "Original vector:\n",
      " [[3]\n",
      " [5]] \n",
      "\n",
      " Result of the transformation:\n",
      " [[  9]\n",
      " [  0]\n",
      " [-10]]\n"
     ]
    }
   ],
   "source": [
    "def L(v):\n",
    "    A = np.array([[3,0], [0,0], [0,-2]])\n",
    "    print(\"Transformation matrix:\\n\", A, \"\\n\")\n",
    "    w = A @ v\n",
    "    \n",
    "    return w\n",
    "\n",
    "v = np.array([[3], [5]])\n",
    "w = L(v)\n",
    "\n",
    "print(\"Original vector:\\n\", v, \"\\n\\n Result of the transformation:\\n\", w)"
   ]
  },
  {
   "cell_type": "code",
   "execution_count": 6,
   "metadata": {},
   "outputs": [
    {
     "name": "stdout",
     "output_type": "stream",
     "text": [
      "Original vectors:\n",
      " e1= \n",
      " [[1]\n",
      " [0]] \n",
      " e2=\n",
      " [[0]\n",
      " [1]] \n",
      "\n",
      " Result of the transformation (matrix form):\n",
      " [[2 0]\n",
      " [0 1]]\n"
     ]
    }
   ],
   "source": [
    "# Stretches the image   \n",
    "\n",
    "def T_hscaling(v):\n",
    "    A = np.array([[2,0], [0,1]])\n",
    "    w = A @ v\n",
    "    \n",
    "    return w\n",
    "    \n",
    "    \n",
    "def transform_vectors(T, v1, v2):\n",
    "    V = np.hstack((v1, v2))\n",
    "    W = T(V)\n",
    "    \n",
    "    return W\n",
    "    \n",
    "e1 = np.array([[1], [0]])\n",
    "e2 = np.array([[0], [1]])\n",
    "\n",
    "transformation_result_hscaling = transform_vectors(T_hscaling, e1, e2)\n",
    "\n",
    "print(\"Original vectors:\\n e1= \\n\", e1, \"\\n e2=\\n\", e2, \n",
    "      \"\\n\\n Result of the transformation (matrix form):\\n\", transformation_result_hscaling)"
   ]
  },
  {
   "cell_type": "code",
   "execution_count": 7,
   "metadata": {},
   "outputs": [
    {
     "name": "stdout",
     "output_type": "stream",
     "text": [
      "Original vectors:\n",
      " e1= \n",
      " [[1]\n",
      " [0]] \n",
      " e2=\n",
      " [[0]\n",
      " [1]] \n",
      "\n",
      " Result of the transformation (matrix form):\n",
      " [[-1  0]\n",
      " [ 0  1]]\n"
     ]
    }
   ],
   "source": [
    "# Reflection transformation like a mirror\n",
    "\n",
    "def T_reflection_yaxis(v):\n",
    "    A = np.array([[-1,0], [0,1]])\n",
    "    w = A @ v\n",
    "    \n",
    "    return w\n",
    "    \n",
    "e1 = np.array([[1], [0]])\n",
    "e2 = np.array([[0], [1]])\n",
    "\n",
    "transformation_result_reflection_yaxis = transform_vectors(T_reflection_yaxis, e1, e2)\n",
    "\n",
    "print(\"Original vectors:\\n e1= \\n\", e1,\"\\n e2=\\n\", e2, \n",
    "      \"\\n\\n Result of the transformation (matrix form):\\n\", transformation_result_reflection_yaxis)"
   ]
  },
  {
   "cell_type": "code",
   "execution_count": 11,
   "metadata": {},
   "outputs": [
    {
     "name": "stdout",
     "output_type": "stream",
     "text": [
      "Original vectors:\n",
      " e1= \n",
      " [[1]\n",
      " [0]] \n",
      " e2=\n",
      " [[0]\n",
      " [1]] \n",
      "\n",
      " Result of the transformation (matrix form):\n",
      " [[3 0]\n",
      " [0 3]]\n"
     ]
    }
   ],
   "source": [
    "# GRADED FUNCTION: T_stretch\n",
    "\n",
    "def T_stretch(a, v):\n",
    "    \"\"\"\n",
    "    Performs a 2D stretching transformation on a vector v using a stretching factor a.\n",
    "\n",
    "    Args:\n",
    "        a (float): The stretching factor.\n",
    "        v (numpy.array): The vector (or vectors) to be stretched.\n",
    "\n",
    "    Returns:\n",
    "        numpy.array: The stretched vector.\n",
    "    \"\"\"\n",
    "\n",
    "    ### START CODE HERE ###\n",
    "    # Define the transformation matrix\n",
    "    T = np.array([[a, 0], [0,a]])\n",
    "    \n",
    "    # Compute the transformation\n",
    "    w = T @ v\n",
    "    ### END CODE HERE ###\n",
    "\n",
    "    return w\n",
    "\n",
    "def transform_vectors(T, v1, v2):\n",
    "    V = np.hstack((v1, v2))\n",
    "    W = T(3, V)\n",
    "    \n",
    "    return W\n",
    "    \n",
    "e1 = np.array([[1], [0]])\n",
    "e2 = np.array([[0], [1]])\n",
    "\n",
    "transformation_result_hscaling = transform_vectors(T_stretch, e1, e2)\n",
    "print(\"Original vectors:\\n e1= \\n\", e1, \"\\n e2=\\n\", e2, \n",
    "      \"\\n\\n Result of the transformation (matrix form):\\n\", transformation_result_hscaling)"
   ]
  },
  {
   "cell_type": "code",
   "execution_count": 13,
   "metadata": {},
   "outputs": [],
   "source": [
    "# GRADED FUNCTION: T_hshear\n",
    "\n",
    "def T_hshear(m, v):\n",
    "    \"\"\"\n",
    "    Performs a 2D horizontal shearing transformation on an array v using a shearing factor m.\n",
    "\n",
    "    Args:\n",
    "        m (float): The shearing factor.\n",
    "        v (np.array): The array to be sheared.\n",
    "\n",
    "    Returns:\n",
    "        np.array: The sheared array.\n",
    "    \"\"\"\n",
    "\n",
    "    ### START CODE HERE ###\n",
    "    # Define the transformation matrix\n",
    "    T = np.array([[1,m], [0,1]])\n",
    "    \n",
    "    # Compute the transformation\n",
    "    w = T @ v\n",
    "    \n",
    "    ### END CODE HERE ###\n",
    "    \n",
    "    return w"
   ]
  },
  {
   "cell_type": "code",
   "execution_count": 14,
   "metadata": {},
   "outputs": [],
   "source": [
    "# GRADED FUNCTION: T_rotation\n",
    "import math\n",
    "def T_rotation(theta, v):\n",
    "    \"\"\"\n",
    "    Performs a 2D rotation transformation on an array v using a rotation angle theta.\n",
    "\n",
    "    Args:\n",
    "        theta (float): The rotation angle in radians.\n",
    "        v (np.array): The array to be rotated.\n",
    "\n",
    "    Returns:\n",
    "        np.array: The rotated array.\n",
    "    \"\"\"\n",
    "    \n",
    "    ### START CODE HERE ###\n",
    "    # Define the transformation matrix\n",
    "    T = np.array([[math.cos(theta),-math.sin(theta)], [math.sin(theta),math.cos(theta)]])\n",
    "    \n",
    "    # Compute the transformation\n",
    "    w = T @ v\n",
    "    \n",
    "    ### END CODE HERE ###\n",
    "    \n",
    "    return w"
   ]
  },
  {
   "cell_type": "markdown",
   "metadata": {},
   "source": [
    "<a name=\"ex04\"></a>\n",
    "### Exercise 4\n",
    "\n",
    "In the last exercise of this section, you will implement a function that rotates by an angle of $\\theta$ and stretches by a factor of $a$. Remember that if $T_{\\text{stretch}}$ is the stretching transformation and $T_{\\text{rotation}}$ is the rotation then \n",
    "\n",
    "$$T_{\\text{rotation and stretch}} (v) = \\left(T_{\\text{rotation}} \\circ T_{\\text{stretch}}\\right) (v) = T_{\\text{rotation}} \\left(T_{\\text{stretch}} \\left(v \\right) \\right).$$\n",
    "\n",
    "So to perform both transformations, you must multiply the corresponding matrices!"
   ]
  },
  {
   "cell_type": "code",
   "execution_count": 15,
   "metadata": {},
   "outputs": [],
   "source": [
    "import math\n",
    "def T_rotation_and_stretch(theta, a, v):\n",
    "    \"\"\"\n",
    "    Performs a combined 2D rotation and stretching transformation on an array v using a rotation angle theta and a stretching factor a.\n",
    "\n",
    "    Args:\n",
    "        theta (float): The rotation angle in radians.\n",
    "        a (float): The stretching factor.\n",
    "        v (np.array): The array to be transformed.\n",
    "\n",
    "    Returns:\n",
    "        np.array: The transformed array.\n",
    "    \"\"\"\n",
    "    ### START CODE HERE ###\n",
    "\n",
    "    rotation_T = np.array([[math.cos(theta),-math.sin(theta)], [math.sin(theta),math.cos(theta)]])\n",
    "    stretch_T = np.array([[a, 0], [0,a]])\n",
    "\n",
    "    w = rotation_T @ (stretch_T @ v)\n",
    "\n",
    "    ### END CODE HERE ###\n",
    "\n",
    "    return w\n"
   ]
  },
  {
   "cell_type": "code",
   "execution_count": null,
   "metadata": {},
   "outputs": [],
   "source": []
  }
 ],
 "metadata": {
  "kernelspec": {
   "display_name": ".venv",
   "language": "python",
   "name": "python3"
  },
  "language_info": {
   "codemirror_mode": {
    "name": "ipython",
    "version": 3
   },
   "file_extension": ".py",
   "mimetype": "text/x-python",
   "name": "python",
   "nbconvert_exporter": "python",
   "pygments_lexer": "ipython3",
   "version": "3.11.7"
  }
 },
 "nbformat": 4,
 "nbformat_minor": 2
}
